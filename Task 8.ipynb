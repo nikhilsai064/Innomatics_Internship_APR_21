{
 "cells": [
  {
   "cell_type": "markdown",
   "metadata": {},
   "source": [
    "# Day 4: Binomial Distribution"
   ]
  },
  {
   "cell_type": "markdown",
   "metadata": {},
   "source": [
    "Task\n",
    "The ratio of boys to girls for babies born in Russia is 1.09 :1. If there is  child born per birth, what proportion of Russian families with exactly  children will have at least 3 boys?"
   ]
  },
  {
   "cell_type": "code",
   "execution_count": null,
   "metadata": {},
   "outputs": [],
   "source": [
    "import math\n",
    "b,g = list(map(float, input().split(\" \")))\n",
    "su = b+g\n",
    "pb = b/su\n",
    "pg = g/su\n",
    "val = math.factorial(6)/math.factorial(3)*math.factorial(3)\n",
    "print(val*(pb**3)*(pg**3))"
   ]
  },
  {
   "cell_type": "markdown",
   "metadata": {},
   "source": [
    "# Day 4: Binomial Distribution II\n",
    "\n"
   ]
  },
  {
   "cell_type": "markdown",
   "metadata": {},
   "source": [
    "A manufacturer of metal pistons finds that, on average, 12% of the pistons they manufacture are rejected because they are incorrectly sized. What is the probability that a batch of 10 pistons will contain:\n",
    "\n",
    "1> No more than 2 rejects?\n",
    "2> At least 2 rejects?"
   ]
  },
  {
   "cell_type": "code",
   "execution_count": null,
   "metadata": {},
   "outputs": [],
   "source": [
    "def fact(n):\n",
    "    return 1 if n == 0 else n*fact(n-1)\n",
    "\n",
    "def comb(n, x):\n",
    "    return fact(n) / (fact(x) * fact(n-x))\n",
    "\n",
    "def b(x, n, p):\n",
    "    return comb(n, x) * p**x * (1-p)**(n-x)\n",
    "\n",
    "p, n = list(map(int, input().split(\" \")))\n",
    "print(round(sum([b(i, n, p/100) for i in range(3)]), 3))\n",
    "print(round(sum([b(i, n, p/100) for i in range(2, n+1)]), 3))\n"
   ]
  },
  {
   "cell_type": "markdown",
   "metadata": {},
   "source": [
    "# Day 5: Normal Distribution I\n",
    "\n"
   ]
  },
  {
   "cell_type": "markdown",
   "metadata": {},
   "source": [
    "in a certain plant, the time taken to assemble a car is a random variable, X, having a normal distribution with a mean of 20 hours and a standard deviation of  hours. What is the probability that a car can be assembled at this plant in:\n",
    "\n",
    "\n"
   ]
  },
  {
   "cell_type": "code",
   "execution_count": 1,
   "metadata": {},
   "outputs": [
    {
     "name": "stdout",
     "output_type": "stream",
     "text": [
      "0.401\n",
      "0.341\n"
     ]
    }
   ],
   "source": [
    "import math\n",
    "mean, std = 20, 2\n",
    "c = lambda x: 0.5 * (1 + math.erf((x - mean) / (std * (2 ** 0.5))))\n",
    "\n",
    "print('{:.3f}'.format(c(19.5)))\n",
    "print('{:.3f}'.format(c(22) - c(20)))"
   ]
  },
  {
   "cell_type": "markdown",
   "metadata": {},
   "source": [
    "# Day 5: Normal Distribution II\n",
    "\n"
   ]
  },
  {
   "cell_type": "markdown",
   "metadata": {},
   "source": [
    "Task\n",
    "The final grades for a Physics exam taken by a large group of students have a mean of 70 and a standard deviation of 10. If we can approximate the distribution of these grades by a normal distribution, what percentage of the students:\n",
    "\n",
    ">Scored higher than 80 (i.e., have >80 )?\n",
    "Passed the test (i.e., have a_> )?\n",
    "Failed the test (i.e., have a )?\n",
    "Find and print the answer to each question on a new line, rounded to a scale of  decimal places."
   ]
  },
  {
   "cell_type": "code",
   "execution_count": null,
   "metadata": {},
   "outputs": [],
   "source": [
    "import math\n",
    "m, s = 70, 10\n",
    "c = lambda x: 0.5 * (1 + math.erf((x - m) / (s * (2 ** 0.5))))\n",
    "\n",
    "print(c(80))\n",
    "print(round((1-c(80))*100,2))\n",
    "print(round((1-c(60))*100,2))\n",
    "print(round((c(60))*100,2))"
   ]
  },
  {
   "cell_type": "markdown",
   "metadata": {},
   "source": [
    "# Day 6: The Central Limit Theorem II\n",
    "\n"
   ]
  },
  {
   "cell_type": "markdown",
   "metadata": {},
   "source": [
    "The number of tickets purchased by each student for the University X vs. University Y football game follows a distribution that has a mean of 2.4  and a standard deviation of 2.0\n",
    "\n",
    "A few hours before the game starts, 100 eager students line up to purchase last-minute tickets. If there are only  tickets left, what is the probability that all  students will be able to purchase tickets?"
   ]
  },
  {
   "cell_type": "code",
   "execution_count": null,
   "metadata": {},
   "outputs": [],
   "source": [
    "import math\n",
    "\n",
    "n1 = float(input())\n",
    "n2 = float(input())\n",
    "m = n2 * float(input())\n",
    "s = math.sqrt(n2) * float(input())\n",
    "\n",
    "print(round(0.5*(1+math.erf((n1 - m)/(s * math.sqrt(2)))),4))\n"
   ]
  },
  {
   "cell_type": "markdown",
   "metadata": {},
   "source": [
    "# Day 7: Pearson Correlation Coefficient I\n",
    "\n"
   ]
  },
  {
   "cell_type": "markdown",
   "metadata": {},
   "source": [
    "Given two -element data sets,  and , calculate the value of the Pearson correlation coefficient."
   ]
  },
  {
   "cell_type": "code",
   "execution_count": null,
   "metadata": {},
   "outputs": [],
   "source": [
    "N = int(input())\n",
    "X = list(map(float,input().strip().split()))\n",
    "Y = list(map(float,input().strip().split()))\n",
    "\n",
    "mx = sum(X) / N\n",
    "my = sum(Y) / N\n",
    "\n",
    "stdv_x = (sum([(i - mx)**2 for i in X]) / N)**0.5\n",
    "stdv_y = (sum([(i - my)**2 for i in Y]) / N)**0.5\n",
    "\n",
    "\n",
    "covariance = sum([(X[i] - mx) * (Y[i] -my) for i in range(N)])\n",
    "\n",
    "correlation_coefficient = covariance / (N * stdv_x * stdv_y)\n",
    "\n",
    "print(round(correlation_coefficient,3))"
   ]
  },
  {
   "cell_type": "markdown",
   "metadata": {},
   "source": [
    "# Day 8: Least Square Regression Line"
   ]
  },
  {
   "cell_type": "markdown",
   "metadata": {},
   "source": [
    "A group of five students enrolls in Statistics immediately after taking a Math aptitude test. Each student's Math aptitude test score, , and Statistics course grade, , can be expressed as the following list of  points:\n",
    "\n"
   ]
  },
  {
   "cell_type": "code",
   "execution_count": null,
   "metadata": {},
   "outputs": [],
   "source": [
    "n = 5\n",
    "xy = [map(int, input().split()) for _ in range(n)]\n",
    "sx, sy, sx2, sxy = map(sum, zip(*[(x, y, x**2, x * y) for x, y in xy]))\n",
    "b = (n * sxy - sx * sy) / (n * sx2 - sx**2)\n",
    "a = (sy / n) - b * (sx / n)\n",
    "print('{:.3f}'.format(a + b * 80))"
   ]
  },
  {
   "cell_type": "code",
   "execution_count": null,
   "metadata": {},
   "outputs": [],
   "source": []
  },
  {
   "cell_type": "code",
   "execution_count": null,
   "metadata": {},
   "outputs": [],
   "source": []
  }
 ],
 "metadata": {
  "kernelspec": {
   "display_name": "Python 3",
   "language": "python",
   "name": "python3"
  },
  "language_info": {
   "codemirror_mode": {
    "name": "ipython",
    "version": 3
   },
   "file_extension": ".py",
   "mimetype": "text/x-python",
   "name": "python",
   "nbconvert_exporter": "python",
   "pygments_lexer": "ipython3",
   "version": "3.7.6"
  }
 },
 "nbformat": 4,
 "nbformat_minor": 4
}
