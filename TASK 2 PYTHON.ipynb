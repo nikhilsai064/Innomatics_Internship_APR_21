{
 "cells": [
  {
   "cell_type": "markdown",
   "metadata": {},
   "source": [
    "# 1 List Comprehensions"
   ]
  },
  {
   "cell_type": "code",
   "execution_count": null,
   "metadata": {},
   "outputs": [],
   "source": [
    "if __name__ == '__main__':\n",
    "    x = int(input())\n",
    "    y = int(input())\n",
    "    z = int(input())\n",
    "    n = int(input())\n",
    "    list = []\n",
    "    for i in range(0,x+1):\n",
    "        for j in range(0,y+1):\n",
    "            for k in range(0,z+1):\n",
    "                if((i+j+k) != n):\n",
    "                    list.append([i,j,k])\n",
    "                #print(list.append([i,j,k]))\n",
    "    \n",
    "\n",
    "print(list)\n"
   ]
  },
  {
   "cell_type": "markdown",
   "metadata": {},
   "source": [
    "# 2 Find the Runner-Up score"
   ]
  },
  {
   "cell_type": "code",
   "execution_count": null,
   "metadata": {},
   "outputs": [],
   "source": [
    "if __name__ == '__main__':\n",
    "    n = int(input())\n",
    "    arr = map(int, input().split())\n",
    "    nani = set(arr)\n",
    "    nani.remove(max(nani))\n",
    "    print(max(nani))"
   ]
  },
  {
   "cell_type": "markdown",
   "metadata": {},
   "source": [
    "# 3 nested lists"
   ]
  },
  {
   "cell_type": "code",
   "execution_count": null,
   "metadata": {},
   "outputs": [],
   "source": [
    "if __name__ == '__main__':\n",
    "    n=int(input())\n",
    "    a=[]\n",
    "    c=[]\n",
    "    for i in range(n):\n",
    "        b=[]\n",
    "        b.append(input())\n",
    "        val=input()\n",
    "        b.append(val)\n",
    "        c.append(float(val))\n",
    "        a.append(b)\n",
    "a.sort()\n",
    "c.sort()\n",
    "v1=c[0]\n",
    "for i in range(1,len(c)):\n",
    "    if(v1!=c[i]):\n",
    "        v1=c[i]\n",
    "        break\n",
    "for i in range(len(a)):\n",
    "    if(float(a[i][1])==v1):\n",
    "        print(a[i][0])\n",
    "    "
   ]
  },
  {
   "cell_type": "markdown",
   "metadata": {},
   "source": [
    "# 4 Finding the percentage"
   ]
  },
  {
   "cell_type": "code",
   "execution_count": null,
   "metadata": {},
   "outputs": [],
   "source": [
    "if __name__ == '__main__':\n",
    "    n = int(input())\n",
    "    student_marks = {}\n",
    "    for _ in range(n):\n",
    "        name, *line = input().split()\n",
    "        scores = list(map(float, line))\n",
    "        student_marks[name] = scores\n",
    "    query_name = input()\n",
    "    \n",
    "\n",
    "qs  = student_marks[query_name]\n",
    "ts = sum(qs)\n",
    "avg = ts/len(qs)\n",
    "print(\"{0:.2f}\".format(sum(qs)/(len(qs))))"
   ]
  },
  {
   "cell_type": "markdown",
   "metadata": {},
   "source": [
    "# 5 Lists"
   ]
  },
  {
   "cell_type": "code",
   "execution_count": null,
   "metadata": {},
   "outputs": [],
   "source": [
    "L = []\n",
    "n = int(input())\n",
    "for i in range(n):\n",
    "    gg = input().split()\n",
    "    if gg[0] == 'insert':\n",
    "        L.insert(int(gg[1]), int(gg[2]))\n",
    "    elif gg[0] == 'remove':\n",
    "        L.remove(int(gg[1]))\n",
    "    elif gg[0] == 'append':\n",
    "        L.append(int(gg[1]))\n",
    "    elif gg[0] == 'sort':\n",
    "        L.sort()\n",
    "    elif gg[0] == 'pop':\n",
    "        L.pop()\n",
    "    elif gg[0] == 'reverse':\n",
    "        L.reverse()\n",
    "    elif gg[0] == 'print':\n",
    "        print(L) "
   ]
  },
  {
   "cell_type": "markdown",
   "metadata": {},
   "source": [
    "# 6 Tuples"
   ]
  },
  {
   "cell_type": "code",
   "execution_count": null,
   "metadata": {},
   "outputs": [],
   "source": [
    "n = input()\n",
    "ll = input().split()\n",
    "\n",
    "nani  = tuple(int(i) for i in ll)\n",
    "print(hash(nani))\n"
   ]
  },
  {
   "cell_type": "markdown",
   "metadata": {},
   "source": [
    "# 7 Intoduction to sets"
   ]
  },
  {
   "cell_type": "code",
   "execution_count": null,
   "metadata": {},
   "outputs": [],
   "source": [
    "def average(array):\n",
    "    up = set(array)\n",
    "    val = sum(up)\n",
    "    no = len(up)\n",
    "    return float((val/no))\n",
    "    # your code goes here\n",
    "\n",
    "if __name__ == '__main__':\n",
    "    n = int(input())\n",
    "    arr = list(map(int, input().split()))\n",
    "    result = average(arr)\n",
    "    print(result)"
   ]
  },
  {
   "cell_type": "markdown",
   "metadata": {},
   "source": [
    "# 8 No idea1\n"
   ]
  },
  {
   "cell_type": "code",
   "execution_count": null,
   "metadata": {},
   "outputs": [],
   "source": [
    "n, m = input().split()\n",
    "nani  = [int(x) for x in input().split()]\n",
    "a = set([int(y) for y in input().split()])\n",
    "b = set([int(z) for z in input().split()])\n",
    "count = [0 + 1 if x in a else 0-1 if x in b else 0 + 0 for x in nani]\n",
    "print(sum(count))\n"
   ]
  },
  {
   "cell_type": "markdown",
   "metadata": {},
   "source": [
    "# 9 symmetric difference"
   ]
  },
  {
   "cell_type": "code",
   "execution_count": null,
   "metadata": {},
   "outputs": [],
   "source": [
    "a = int(input())\n",
    "A = set(map(int, input().split()))\n",
    "\n",
    "b = int(input())\n",
    "B = set(map(int, input().split()))\n",
    "s = sorted(A.symmetric_difference(B))\n",
    "\n",
    "for i in s:\n",
    "    print(i)\n"
   ]
  },
  {
   "cell_type": "markdown",
   "metadata": {},
   "source": [
    "# 10 set.add()"
   ]
  },
  {
   "cell_type": "code",
   "execution_count": null,
   "metadata": {},
   "outputs": [],
   "source": [
    "total = input()\n",
    "nani = []\n",
    "for i in range(int(total)):\n",
    "    nani.append(input())\n",
    "\n",
    "\n",
    "print(len(set(nani)))\n"
   ]
  },
  {
   "cell_type": "markdown",
   "metadata": {},
   "source": [
    "# 11 set discard(0,.remove() & .pop()"
   ]
  },
  {
   "cell_type": "code",
   "execution_count": null,
   "metadata": {},
   "outputs": [],
   "source": [
    "n = int(input())\n",
    "s = set(map(int, input().split()))\n",
    "for i in range(int(input())):\n",
    "    eval('s.{0}({1})'.format(*input().split()+['']))\n",
    "\n",
    "print(sum(s))\n"
   ]
  },
  {
   "cell_type": "markdown",
   "metadata": {},
   "source": [
    "# 12 set.union() Operation"
   ]
  },
  {
   "cell_type": "code",
   "execution_count": null,
   "metadata": {},
   "outputs": [],
   "source": [
    "n = int(input())\n",
    "N = set(map(int, input().split()))\n",
    "\n",
    "\n",
    "b = int(input())\n",
    "B = set(map(int, input().split()))\n",
    "\n",
    "uu = N.union(B)\n",
    "print(len(uu))\n"
   ]
  },
  {
   "cell_type": "markdown",
   "metadata": {},
   "source": [
    "# 13 set.intersection() Operation"
   ]
  },
  {
   "cell_type": "code",
   "execution_count": null,
   "metadata": {},
   "outputs": [],
   "source": [
    "n = int(input())\n",
    "N = set(map(int, input().split()))\n",
    "b = int(input())\n",
    "B = set(map(int, input().split()))\n",
    "\n",
    "uu = N.intersection(B)\n",
    "print(len(uu))\n"
   ]
  },
  {
   "cell_type": "markdown",
   "metadata": {},
   "source": [
    "# 14 set.difference() operation"
   ]
  },
  {
   "cell_type": "code",
   "execution_count": null,
   "metadata": {},
   "outputs": [],
   "source": [
    "n = int(input())\n",
    "N = set(map(int, input().split()))\n",
    "\n",
    "\n",
    "b = int(input())\n",
    "B = set(map(int, input().split()))\n",
    "\n",
    "uu = N.difference(B)\n",
    "print(len(uu))\n"
   ]
  },
  {
   "cell_type": "markdown",
   "metadata": {},
   "source": [
    "# 15 set.symmetric_difference() operation"
   ]
  },
  {
   "cell_type": "code",
   "execution_count": null,
   "metadata": {},
   "outputs": [],
   "source": [
    "_= int(input())\n",
    "s1 = set(map(int, input().split()))\n",
    "N = int(input())\n",
    "\n",
    "for _ in range(N):\n",
    "    cmd, _ = input().split()\n",
    "    s2 = set(map(int, input().split()))\n",
    "    if(cmd == \"intersection_update\"):\n",
    "        s1.intersection_update(s2)\n",
    "    elif(cmd == \"update\"):\n",
    "        s1.update(s2)\n",
    "    elif(cmd == \"symmetric_difference_update\"):\n",
    "        s1.symmetric_difference_update(s2)\n",
    "    elif(cmd == \"difference_update\"):\n",
    "        s1.difference_update(s2)\n",
    "\n",
    "print(sum(s1))\n"
   ]
  },
  {
   "cell_type": "markdown",
   "metadata": {},
   "source": [
    "# 16 Set Mutations"
   ]
  },
  {
   "cell_type": "code",
   "execution_count": null,
   "metadata": {},
   "outputs": [],
   "source": [
    "input()\n",
    "hh = set(input().split())\n",
    "for _ in range(int(input())):\n",
    "    ss, *args = input().split()\n",
    "    getattr(hh, ss)(set(input().split())) \n",
    "print(sum(map(int, hh)))"
   ]
  },
  {
   "cell_type": "markdown",
   "metadata": {},
   "source": [
    "# 17 The captains Room"
   ]
  },
  {
   "cell_type": "code",
   "execution_count": null,
   "metadata": {},
   "outputs": [],
   "source": [
    "k = int(input())\n",
    "s1 = list(map(int, input().split()))\n",
    "print(((sum(set(s1))*k)-(sum(s1)))//(k-1))\n"
   ]
  },
  {
   "cell_type": "markdown",
   "metadata": {},
   "source": [
    "# 18 Check Subset"
   ]
  },
  {
   "cell_type": "code",
   "execution_count": null,
   "metadata": {},
   "outputs": [],
   "source": [
    "T = int(input())\n",
    "#print(T)\n",
    "for i in range(T):\n",
    "    a = int(input())\n",
    "    #print(a)\n",
    "    A = set(map(int, input().split()))\n",
    "    #print(A)\n",
    "    b = int(input())\n",
    "    #print(b)\n",
    "    B = set(map(int, input().split()))\n",
    "    #print(B)\n",
    "    if(A == A.intersection(B)):\n",
    "        print(True)\n",
    "    else:\n",
    "        print(False)\n"
   ]
  },
  {
   "cell_type": "markdown",
   "metadata": {},
   "source": [
    "# 19 Check Strict Superset"
   ]
  },
  {
   "cell_type": "code",
   "execution_count": null,
   "metadata": {},
   "outputs": [],
   "source": [
    "a = set(map(str, input().split(' ')))\n",
    "nani = []\n",
    "for i in range(int(input())):\n",
    "     nani.append(a.issuperset(set(map(str, input().split(' ')))))\n",
    "print(all(nani))\n"
   ]
  }
 ],
 "metadata": {
  "kernelspec": {
   "display_name": "Python 3",
   "language": "python",
   "name": "python3"
  },
  "language_info": {
   "codemirror_mode": {
    "name": "ipython",
    "version": 3
   },
   "file_extension": ".py",
   "mimetype": "text/x-python",
   "name": "python",
   "nbconvert_exporter": "python",
   "pygments_lexer": "ipython3",
   "version": "3.7.6"
  }
 },
 "nbformat": 4,
 "nbformat_minor": 4
}
