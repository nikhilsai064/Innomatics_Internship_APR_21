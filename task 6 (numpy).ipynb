{
 "cells": [
  {
   "cell_type": "code",
   "execution_count": null,
   "metadata": {},
   "outputs": [],
   "source": [
    "#Arrays\n",
    "import numpy\n",
    "\n",
    "def arrays(arr):\n",
    "    return numpy.array(arr[::-1],float)\n",
    "    # complete this function\n",
    "    # use numpy.array\n",
    "\n",
    "arr = input().strip().split(' ')\n",
    "result = arrays(arr)\n",
    "print(result)"
   ]
  },
  {
   "cell_type": "code",
   "execution_count": null,
   "metadata": {},
   "outputs": [],
   "source": [
    "#Shape and Reshape\n",
    "import numpy\n",
    "print(numpy.array(input().split(),int).reshape(3,3))"
   ]
  },
  {
   "cell_type": "code",
   "execution_count": null,
   "metadata": {},
   "outputs": [],
   "source": [
    "#Transpose and Flatten\n",
    "import numpy\n",
    "\n",
    "n, m = map(int, input().split())\n",
    "array = numpy.array([input().strip().split() for _ in range(n)], int)\n",
    "print (array.transpose())\n",
    "print (array.flatten())"
   ]
  },
  {
   "cell_type": "code",
   "execution_count": null,
   "metadata": {},
   "outputs": [],
   "source": [
    "#Concatenate\n",
    "import numpy\n",
    "n,m,p=map(int,input().split())\n",
    "lis=[]\n",
    "for i in range(n+m):\n",
    "    inp=input().split()\n",
    "    lis.append(inp)\n",
    "print(numpy.array(lis,int))"
   ]
  },
  {
   "cell_type": "code",
   "execution_count": null,
   "metadata": {},
   "outputs": [],
   "source": [
    "#zeros and ones\n",
    "import numpy\n",
    "n = tuple(map(int, input().split()))\n",
    "\n",
    "print (numpy.zeros(n, dtype = numpy.int))\n",
    "print (numpy.ones(n, dtype = numpy.int))\n"
   ]
  },
  {
   "cell_type": "code",
   "execution_count": null,
   "metadata": {},
   "outputs": [],
   "source": [
    "#Eye and Identity\n",
    "import numpy\n",
    "n,m = map(int,input().split())\n",
    "\n",
    "numpy.set_printoptions(sign=' ')\n",
    "\n",
    "print(numpy.eye(n, m))\n",
    "\n"
   ]
  },
  {
   "cell_type": "code",
   "execution_count": null,
   "metadata": {},
   "outputs": [],
   "source": [
    "#Array Mathematics\n",
    "import numpy as np\n",
    "n, m = map(int, input().split())\n",
    "a, b = (np.array([input().split() for _ in range(n)], dtype=int) for _ in range(2))\n",
    "print(a+b, a-b, a*b, a//b, a%b, a**b, sep='\\n')\n"
   ]
  },
  {
   "cell_type": "code",
   "execution_count": null,
   "metadata": {},
   "outputs": [],
   "source": [
    "#Floor,Ceil,Rint\n",
    "import numpy\n",
    "numpy.set_printoptions(sign=' ')\n",
    "\n",
    "A = numpy.array((input().split()), float)\n",
    "print(numpy.floor(A))\n",
    "print(numpy.ceil(A))\n",
    "print(numpy.rint(A))"
   ]
  },
  {
   "cell_type": "code",
   "execution_count": null,
   "metadata": {},
   "outputs": [],
   "source": [
    "#Sum,Prod\n",
    "import numpy\n",
    "n,m = map(int, input().split())\n",
    "A = numpy.array([input().split() for _ in range(n)],int)\n",
    "print(numpy.prod(numpy.sum(A, axis=0), axis=0))\n"
   ]
  },
  {
   "cell_type": "code",
   "execution_count": null,
   "metadata": {},
   "outputs": [],
   "source": [
    "#Min,Max\n",
    "import numpy\n",
    "n,m = map(int, input().split())\n",
    "A = numpy.array([input().split() for _ in range(n)],int)\n",
    "a = numpy.min(A, axis = 1)\n",
    "print(max(a)) "
   ]
  },
  {
   "cell_type": "code",
   "execution_count": null,
   "metadata": {},
   "outputs": [],
   "source": [
    "#Mean,Var,Std\n",
    "import numpy\n",
    "n,m = map(int, input().split())\n",
    "A = numpy.array([input().split() for _ in range(n)],int)\n",
    "print(numpy.mean(A, axis = 1)) \n",
    "print(numpy.var(A, axis = 0)) \n",
    "std = numpy.std(A)\n",
    "rnd = numpy.around(std, 11)\n",
    "print(rnd)\n"
   ]
  },
  {
   "cell_type": "code",
   "execution_count": null,
   "metadata": {},
   "outputs": [],
   "source": [
    "#Dot and Cross\n",
    "import numpy\n",
    "n = int(input())\n",
    "A = numpy.array([input().split() for _ in range(n)],int)\n",
    "B = numpy.array([input().split() for _ in range(n)],int)\n",
    "print(numpy.dot(A, B))\n"
   ]
  },
  {
   "cell_type": "code",
   "execution_count": null,
   "metadata": {},
   "outputs": [],
   "source": [
    "#Inner and outer\n",
    "import numpy\n",
    "A=numpy.array(input().split(),int)\n",
    "B=numpy.array(input().split(),int)\n",
    "print(numpy.inner(A,B))\n",
    "print(numpy.outer(A,B))\n"
   ]
  },
  {
   "cell_type": "code",
   "execution_count": null,
   "metadata": {},
   "outputs": [],
   "source": [
    "#Polynomials\n",
    "import numpy\n",
    "n = list(map(float,input().split()))\n",
    "m = input()\n",
    "print(numpy.polyval(n,int(m)))"
   ]
  },
  {
   "cell_type": "code",
   "execution_count": null,
   "metadata": {},
   "outputs": [],
   "source": [
    "#Linear Algebra\n",
    "import numpy as np\n",
    "N = int(input())\n",
    "A = np.array([input().split() for _ in range(N)], float)\n",
    "\n",
    "print(np.round(np.linalg.det(A), 2))"
   ]
  }
 ],
 "metadata": {
  "kernelspec": {
   "display_name": "Python 3",
   "language": "python",
   "name": "python3"
  },
  "language_info": {
   "codemirror_mode": {
    "name": "ipython",
    "version": 3
   },
   "file_extension": ".py",
   "mimetype": "text/x-python",
   "name": "python",
   "nbconvert_exporter": "python",
   "pygments_lexer": "ipython3",
   "version": "3.7.6"
  }
 },
 "nbformat": 4,
 "nbformat_minor": 4
}
